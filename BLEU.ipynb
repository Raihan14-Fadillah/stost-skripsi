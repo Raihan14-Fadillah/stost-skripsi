{
 "cells": [
  {
   "cell_type": "code",
   "execution_count": 1,
   "id": "7d9e3dd2-2dfa-47c1-bb93-b56b08193f17",
   "metadata": {},
   "outputs": [
    {
     "name": "stdin",
     "output_type": "stream",
     "text": [
      "Masukkan teks referensi:  engko' èntar dâ' pasar\n",
      "Masukkan teks kandidat:  engko' èntar dâ' pasar\n"
     ]
    },
    {
     "name": "stdout",
     "output_type": "stream",
     "text": [
      "Skor BLEU: 1.0000\n"
     ]
    }
   ],
   "source": [
    "from nltk.translate.bleu_score import sentence_bleu, SmoothingFunction\n",
    "\n",
    "def calculate_bleu(reference, candidate):\n",
    "    reference = [reference.split()]  # Referensi harus berupa list dalam list\n",
    "    candidate = candidate.split()\n",
    "    \n",
    "    smoothie = SmoothingFunction().method1  # Menggunakan smoothing agar BLEU tetap bisa dihitung\n",
    "    score = sentence_bleu(reference, candidate, weights=(1, 0, 0, 0), smoothing_function=smoothie)\n",
    "    return score\n",
    "\n",
    "# Meminta input dari pengguna untuk teks referensi dan kandidat\n",
    "reference_text = input(\"Masukkan teks referensi: \")\n",
    "candidate_text = input(\"Masukkan teks kandidat: \")\n",
    "\n",
    "# Menghitung dan mencetak skor BLEU\n",
    "bleu_score = calculate_bleu(reference_text, candidate_text)\n",
    "print(f\"Skor BLEU: {bleu_score:.4f}\")"
   ]
  },
  {
   "cell_type": "code",
   "execution_count": null,
   "id": "9282d87e-b6c5-4bad-8e34-88f95f52c3c1",
   "metadata": {},
   "outputs": [],
   "source": []
  }
 ],
 "metadata": {
  "kernelspec": {
   "display_name": "Python 3 (ipykernel)",
   "language": "python",
   "name": "python3"
  },
  "language_info": {
   "codemirror_mode": {
    "name": "ipython",
    "version": 3
   },
   "file_extension": ".py",
   "mimetype": "text/x-python",
   "name": "python",
   "nbconvert_exporter": "python",
   "pygments_lexer": "ipython3",
   "version": "3.12.10"
  }
 },
 "nbformat": 4,
 "nbformat_minor": 5
}
